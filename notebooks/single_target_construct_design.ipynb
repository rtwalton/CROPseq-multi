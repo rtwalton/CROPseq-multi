{
 "cells": [
  {
   "cell_type": "code",
   "execution_count": 1,
   "id": "33bf19c8",
   "metadata": {},
   "outputs": [],
   "source": [
    "import sys\n",
    "import pandas as pd\n",
    "import numpy as np\n",
    "import matplotlib.pyplot as plt\n",
    "import seaborn as sns\n",
    "import os\n",
    "from glob import glob\n",
    "from tqdm import tqdm\n",
    "import random\n",
    "import time"
   ]
  },
  {
   "cell_type": "code",
   "execution_count": 2,
   "id": "ba31ece1",
   "metadata": {},
   "outputs": [],
   "source": [
    "# provide the path to your local installation of the CROPseq-multi package\n",
    "# set path to top level of git directory\n",
    "gitdir = os.popen('git rev-parse --show-toplevel').read().strip('\\n')\n",
    "os.chdir(gitdir)\n",
    "sys.path.append(gitdir +'/csm')\n",
    "\n",
    "import guide_selection, barcode_selection, oligo_design"
   ]
  },
  {
   "cell_type": "markdown",
   "id": "e9e15fa5",
   "metadata": {},
   "source": [
    "- guides should be selected using CRISPick (or formatted as the CRISPick output, if manually selected) and provided as input file \n",
    "    - See: https://portals.broadinstitute.org/gppx/crispick/public\n",
    "    - use \"Chen (2013) tracrRNA\" model for guide selection\n",
    "    - design 1-2 additional sgRNAs per gene than you anticipate using\n",
    "        - for example, if you will use 4 unique sgRNAs per gene, design 5-6 per gene with CRISPick.\n",
    "        - the highest highest ranked guides will be prioritized.\n",
    "- controls are pulled from a pre-designed set for hg38 and are only appropriate for screens in human cells\n",
    "- this notebook implements reasonable and generalized best practices for guide pairing, barcode selection, tRNA selection, etc.\n",
    "    - for greater customization, use the notebook \"single_target_library_design.ipynb\""
   ]
  },
  {
   "cell_type": "code",
   "execution_count": 3,
   "id": "ecb5f07c",
   "metadata": {},
   "outputs": [],
   "source": [
    "# MODIFY PARAMETERS HERE\n",
    "\n",
    "# provide the path to the CRISPick output with your designed guides\n",
    "CRISPICK_DESIGN_FILE_PATH = 'input_files/CRISPick_output_yamaknockdown.txt'\n",
    "\n",
    "# indicate the desired number of constructs per gene (must provide at least 2 * N_CONSTRUCTS_PER_GENE unique guides per gene)\n",
    "N_CONSTRUCTS_PER_GENE = 3\n",
    "\n",
    "# indicate the CRISPR modality (determines which control guides to use)\n",
    "MODALITY = 'CRISPRi' # 'CRISPRko', 'CRISPRi', or 'CRISPRa'\n",
    "\n",
    "# indicate the desired number of each type of controls\n",
    "# nontargeting controls (non-cutting for CRISPRko)\n",
    "N_NONTARGETING_CONTROL_CONSTRUCTS = 1\n",
    "\n",
    "# intergenic controls (cutting for CRISPRko)\n",
    "N_INTERGENIC_CONTROL_CONSTRUCTS = 1\n",
    "\n",
    "# olfactory receptor controls (gene-cutting for CRISPRko)\n",
    "N_OLFACTORY_RECEPTOR_GENES = 0\n",
    "N_CONSTRUCTS_PER_OLFACTORY_RECEPTOR = 0"
   ]
  },
  {
   "cell_type": "markdown",
   "id": "17452051",
   "metadata": {},
   "source": [
    "### after entering parameters above, run the following cell without modification"
   ]
  },
  {
   "cell_type": "code",
   "execution_count": 4,
   "id": "6abc0643-99a5-4073-a636-4d3da1f13013",
   "metadata": {},
   "outputs": [
    {
     "name": "stdout",
     "output_type": "stream",
     "text": [
      "############## pairing gene-tareting guides ##############\n",
      "\n"
     ]
    },
    {
     "data": {
      "image/png": "[encoded data removed]",
      "text/plain": [
       "<Figure size 300x300 with 1 Axes>"
      ]
     },
     "metadata": {},
     "output_type": "display_data"
    },
    {
     "name": "stdout",
     "output_type": "stream",
     "text": [
      "############## designing controls ##############\n",
      "\n"
     ]
    },
    {
     "data": {
      "image/png": "[encoded data removed]",
      "text/plain": [
       "<Figure size 300x300 with 1 Axes>"
      ]
     },
     "metadata": {},
     "output_type": "display_data"
    },
    {
     "name": "stdout",
     "output_type": "stream",
     "text": [
      "############## selecting iBARs ##############\n",
      "\n",
      "\n",
      "Edit distance 3 in 6 cycles\n",
      "\n",
      "generating and filtering complete iBARs...\n"
     ]
    },
    {
     "name": "stderr",
     "output_type": "stream",
     "text": [
      "100%|██████████| 87/87 [00:00<00:00, 13418.07it/s]\n"
     ]
    },
    {
     "name": "stdout",
     "output_type": "stream",
     "text": [
      "\n",
      "optimizing barcode pairing...\n",
      "attempt 1/3\n"
     ]
    },
    {
     "name": "stderr",
     "output_type": "stream",
     "text": [
      "100%|██████████| 117/117 [00:00<00:00, 756138.01it/s]\n"
     ]
    },
    {
     "name": "stdout",
     "output_type": "stream",
     "text": [
      "\n",
      "designed 30 barcode pairs\n",
      "\n",
      "determining cycling requirements for decoding...\n",
      "\n",
      "barcode 1 is unique in set(barcode 1) in:\n",
      " 4 cycles\n",
      "\n",
      "barcode 2 is unique in set(barcode 2) in:\n",
      " 4 cycles\n",
      "\n",
      "barcodes in set(barcode 1, barcode 2) are unique in:\n",
      " 4 cycles\n",
      "\n",
      "simulating recombination detection...\n"
     ]
    },
    {
     "name": "stderr",
     "output_type": "stream",
     "text": [
      "                                              \r"
     ]
    },
    {
     "name": "stdout",
     "output_type": "stream",
     "text": [
      "\n",
      "barcode pair is unique in set(1-2, 2-1) in :\n",
      " 2 cycles with 72% recombination detection\n",
      " or:\n",
      " 3 cycles with 97% recombination detection\n",
      "\n",
      "simulating recombination detection...\n"
     ]
    },
    {
     "name": "stderr",
     "output_type": "stream",
     "text": [
      "                                      \r"
     ]
    },
    {
     "name": "stdout",
     "output_type": "stream",
     "text": [
      "\n",
      "barcode pair is unique in set(1-2) in:\n",
      " 2 cycles with 70% recombination detection\n",
      " or:\n",
      " 3 cycles with 97% recombination detection\n",
      "############## designing final oligos ##############\n",
      "\n"
     ]
    },
    {
     "data": {
      "image/png": "[encoded data removed]",
      "text/plain": [
       "<Figure size 300x300 with 1 Axes>"
      ]
     },
     "metadata": {},
     "output_type": "display_data"
    },
    {
     "data": {
      "image/png": "[encoded data removed]",
      "text/plain": [
       "<Figure size 300x300 with 1 Axes>"
      ]
     },
     "metadata": {},
     "output_type": "display_data"
    },
    {
     "name": "stdout",
     "output_type": "stream",
     "text": [
      "############## complete ##############\n",
      "\n",
      "files have been saved as follows:\n",
      "design file: oligo_designs/CSM_library_design.20251001-152009.csv\n",
      "oligo order file: oligo_designs/CSM_oligo_order.20251001-152009.csv\n",
      "GPP internal production manifest: oligo_designs/CSM_GPP_IPM.20251001-152009-6col.csv\n"
     ]
    }
   ],
   "source": [
    "# RUN THIS CELL WITHOUT MODIFICATION\n",
    "\n",
    "## design gene-targeting constructs\n",
    "print('############## pairing gene-tareting guides ##############\\n')\n",
    "guide_input_df = pd.read_table(CRISPICK_DESIGN_FILE_PATH)\n",
    "\n",
    "gene_targeting_pairs = guide_selection.pair_guides_single_target_CRISPick(\n",
    "    guide_input_df, \n",
    "    constructs_per_gene = N_CONSTRUCTS_PER_GENE,\n",
    "    pairing_method='pick_sum'\n",
    ")\n",
    "\n",
    "gene_targeting_pairs['category']='GENE_TARGETING'\n",
    "\n",
    "plt.figure(figsize=(3,3))\n",
    "gene_targeting_pairs.value_counts('target').hist(bins=range(0,10))\n",
    "plt.xlabel('constructs per target')\n",
    "plt.ylabel('targets')\n",
    "plt.show()\n",
    "\n",
    "## design controls\n",
    "print('############## designing controls ##############\\n')\n",
    "control_pairs_df = guide_selection.pair_guides_single_target_controls(\n",
    "    n_OR_genes = N_OLFACTORY_RECEPTOR_GENES, # number of olfactory receptor genes to use as controls\n",
    "    n_OR_constructs_per_gene = N_CONSTRUCTS_PER_OLFACTORY_RECEPTOR, # number of constructs to design per olfactory receptor gene target\n",
    "    n_intergenic_constructs = N_INTERGENIC_CONTROL_CONSTRUCTS, # number of intergenic control constructs\n",
    "    n_nontargeting_constructs = N_NONTARGETING_CONTROL_CONSTRUCTS, # number of nontargeting control constructs\n",
    "    modality = MODALITY,\n",
    ")\n",
    "\n",
    "# combine controls and gene-targeting\n",
    "guide_pairs_df = pd.concat([ gene_targeting_pairs, control_pairs_df],\n",
    "                           ignore_index=True).reset_index(drop=True)\n",
    "\n",
    "plt.figure(figsize=(3,3))\n",
    "plt.bar(guide_pairs_df.value_counts('category').index,\n",
    "        guide_pairs_df.value_counts('category').values)\n",
    "plt.xlabel('category')\n",
    "plt.xticks(rotation=90)\n",
    "plt.ylabel('constructs')\n",
    "plt.show()\n",
    "\n",
    "# import all the barcode sets\n",
    "print('############## selecting iBARs ##############\\n')\n",
    "df_bc_sets = pd.DataFrame()\n",
    "search = 'designed_barcode_sets/barcodes_n*_k*_*.noBsmBI.csv'\n",
    "for file in glob(search):\n",
    "    df_barcodes = pd.read_csv(file)\n",
    "    df_bc_sets.loc[file, 'length'] = df_barcodes['n'][0]\n",
    "    df_bc_sets.loc[file, 'distance'] = df_barcodes['k'][0]\n",
    "    df_bc_sets.loc[file, 'metric'] = file.split('_')[-1].split('.')[0]\n",
    "    df_bc_sets.loc[file, 'n_barcodes'] = len(df_barcodes)\n",
    "\n",
    "df_bc_sets.sort_values('n_barcodes')\n",
    "\n",
    "# select and pair barcodes guaranteeing all barcoedes are unique \n",
    "# and enable error correction in fewst cycles possible\n",
    "library_design_df = barcode_selection.automated_iBAR_assignment(\n",
    "    guide_pairs_df, \n",
    "    distance=3, \n",
    "    method='random_unique',\n",
    ")\n",
    "\n",
    "print('############## designing final oligos ##############\\n')\n",
    "\n",
    "# randomly assign tRNAs (in equal proportions)\n",
    "library_design_df = oligo_design.assign_tRNAs(library_design_df)\n",
    "oligo_design_df, df_failed = oligo_design.generate_oligos(library_design_df)\n",
    "\n",
    "if not df_failed.empty:\n",
    "    print(\"inspect 'df_failed' for failed oligo designs\")\n",
    "\n",
    "plt.figure(figsize=(3,3))\n",
    "plt.title('constructs per tRNA')\n",
    "plt.bar(oligo_design_df.value_counts('tRNA').index, oligo_design_df.value_counts('tRNA').values)\n",
    "plt.xlabel('tRNA')\n",
    "plt.ylabel('constructs')\n",
    "plt.show()\n",
    "\n",
    "plt.figure(figsize=(3,3))\n",
    "plt.title('length per oligo')\n",
    "plt.hist(oligo_design_df.oligo_len)\n",
    "plt.xlabel('oligo length')\n",
    "plt.ylabel('constructs')\n",
    "plt.show()\n",
    "\n",
    "## save library design\n",
    "\n",
    "# this is the complete oligo design\n",
    "design_filepath = 'oligo_designs/CSM_library_design.%s.csv'%(time.strftime(\"%Y%m%d-%H%M%S\"))\n",
    "oligo_filepath = 'oligo_designs/CSM_oligo_order.%s.csv'%(time.strftime(\"%Y%m%d-%H%M%S\"))\n",
    "gpp_ipm_filepath = 'oligo_designs/CSM_GPP_IPM.%s-6col.csv'%(time.strftime(\"%Y%m%d-%H%M%S\"))\n",
    "\n",
    "oligo_design_df.to_csv(design_filepath,index=False)\n",
    "\n",
    "# this file can be submitted directly for ordering the oligo pool\n",
    "oligo_design_df['oligo'].to_csv(oligo_filepath)\n",
    "\n",
    "# if collaborating with Broad's GPP on library design and construction, \n",
    "# this file provides the design information for their internal record keeping\n",
    "gpp_ipm = guide_selection.generate_GPP_internal_production_manifest(CRISPICK_DESIGN_FILE_PATH, oligo_design_df, MODALITY)\n",
    "gpp_ipm.to_csv(gpp_ipm_filepath,index=False)\n",
    "\n",
    "print('############## complete ##############')\n",
    "\n",
    "print('\\nfiles have been saved as follows:')\n",
    "print(f'design file: {design_filepath}')\n",
    "print(f'oligo order file: {oligo_filepath}')\n",
    "print(f'GPP internal production manifest: {gpp_ipm_filepath}')\n"
   ]
  },
  {
   "cell_type": "code",
   "execution_count": null,
   "id": "737aeebe",
   "metadata": {},
   "outputs": [],
   "source": []
  }
 ],
 "metadata": {
  "kernelspec": {
   "display_name": "csm",
   "language": "python",
   "name": "python3"
  },
  "language_info": {
   "codemirror_mode": {
    "name": "ipython",
    "version": 3
   },
   "file_extension": ".py",
   "mimetype": "text/x-python",
   "name": "python",
   "nbconvert_exporter": "python",
   "pygments_lexer": "ipython3",
   "version": "3.9.21"
  }
 },
 "nbformat": 4,
 "nbformat_minor": 5
}
